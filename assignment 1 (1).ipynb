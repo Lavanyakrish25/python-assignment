{
 "cells": [
  {
   "cell_type": "code",
   "execution_count": 1,
   "id": "eb7c61e3",
   "metadata": {},
   "outputs": [],
   "source": [
    "#NAME :LAVANYA.B\n",
    "#REGISTER NO:21UAI049"
   ]
  },
  {
   "cell_type": "code",
   "execution_count": 3,
   "id": "eec5c99b",
   "metadata": {},
   "outputs": [
    {
     "name": "stdout",
     "output_type": "stream",
     "text": [
      "*\n",
      "**\n",
      "***\n",
      "****\n",
      "*****\n",
      "******\n",
      "*******\n"
     ]
    }
   ],
   "source": [
    "#11.\n",
    "def pypart(n):\n",
    "    myList = []\n",
    "    for i in range(1,n+1):\n",
    "        myList.append(\"*\"*i)\n",
    "    print(\"\\n\".join(myList))\n",
    "n = 7\n",
    "pypart(n)"
   ]
  },
  {
   "cell_type": "code",
   "execution_count": 2,
   "id": "654b6967",
   "metadata": {},
   "outputs": [
    {
     "name": "stdout",
     "output_type": "stream",
     "text": [
      "Removing characters from a string\n",
      "Original string: Lavanya\n",
      "nya\n",
      "Original string: Lavanya\n",
      "vanya\n"
     ]
    }
   ],
   "source": [
    "#12.\n",
    "def remove_chars(word, n):\n",
    "    print('Original string:', word)\n",
    "    x = word[n:]\n",
    "    return x\n",
    "\n",
    "print(\"Removing characters from a string\")\n",
    "print(remove_chars(\"Lavanya\", 4))\n",
    "print(remove_chars(\"Lavanya\", 2))"
   ]
  },
  {
   "cell_type": "code",
   "execution_count": null,
   "id": "fc944189",
   "metadata": {},
   "outputs": [],
   "source": [
    "#13.\n",
    "for i in range(5): \n",
    "    n = int(input(\"Enter a number: \")) \n",
    " \n",
    "    if n % 5 == 0: \n",
    "        print(n) "
   ]
  },
  {
   "cell_type": "code",
   "execution_count": 2,
   "id": "8a8e8ce0",
   "metadata": {},
   "outputs": [
    {
     "name": "stdout",
     "output_type": "stream",
     "text": [
      "3\n"
     ]
    }
   ],
   "source": [
    "#14.\n",
    "words = [\"hi\", \"hi\", \"hi\", \"welcome\"]\n",
    "n_hi = words.count(\"hi\")\n",
    "print(n_hi)"
   ]
  },
  {
   "cell_type": "code",
   "execution_count": 4,
   "id": "f56bd291",
   "metadata": {},
   "outputs": [
    {
     "name": "stdout",
     "output_type": "stream",
     "text": [
      "1 \n",
      "1 2 \n",
      "1 2 3 \n",
      "1 2 3 4 \n",
      "1 2 3 4 5 \n",
      "1 2 3 4 5 6 \n",
      "1 2 3 4 5 6 7 \n",
      "1 2 3 4 5 6 7 8 \n",
      "1 2 3 4 5 6 7 8 9 \n"
     ]
    }
   ],
   "source": [
    "#15.\n",
    "num = 10\n",
    "for n in range(1, num):\n",
    "    for i in range(1, n+1):\n",
    "        print(i, end=\" \")\n",
    "    print(\"\")"
   ]
  },
  {
   "cell_type": "code",
   "execution_count": 7,
   "id": "47445d62",
   "metadata": {},
   "outputs": [
    {
     "name": "stdout",
     "output_type": "stream",
     "text": [
      "Please Enter any Value: 545\n",
      "Reverse of it is = 545\n",
      "545 is a Palindrome\n"
     ]
    }
   ],
   "source": [
    "#16.\n",
    "number = int(input(\"Please Enter any Value: \"))\n",
    "reverse = 0\n",
    "temp = number\n",
    "while(temp > 0):\n",
    "    Reminder = temp % 10\n",
    "    reverse = (reverse * 10) + Reminder\n",
    "    temp = temp //10\n",
    "     print(\"Reverse of it is = %d\" %reverse)\n",
    "if(number == reverse):\n",
    "    print(\"%d is a Palindrome\" %number)\n",
    "else:\n",
    "    print(\"%d is Not\" %number)"
   ]
  },
  {
   "cell_type": "code",
   "execution_count": 9,
   "id": "318d0597",
   "metadata": {},
   "outputs": [
    {
     "name": "stdout",
     "output_type": "stream",
     "text": [
      "Initial List :  [25, 34, 67, 87, 90, 43]\n",
      "List after Swapping :  [43, 34, 67, 87, 90, 25]\n"
     ]
    }
   ],
   "source": [
    "#17.string\n",
    "myList = [25,34,67,87,90,43]\n",
    "print(\"Initial List : \", myList)\n",
    "length = len(myList)\n",
    "temp = myList[0]\n",
    "myList[0] = myList[length - 1]\n",
    "myList[length - 1] = temp\n",
    "\n",
    "print(\"List after Swapping : \", myList)"
   ]
  },
  {
   "cell_type": "code",
   "execution_count": 16,
   "id": "b88f954c",
   "metadata": {},
   "outputs": [
    {
     "name": "stdout",
     "output_type": "stream",
     "text": [
      "[19, 65, 23, 90]\n"
     ]
    }
   ],
   "source": [
    "#18.\n",
    "def swapPositions(list, pos1, pos2):\n",
    "     \n",
    "    list[pos1], list[pos2] = list[pos2], list[pos1]\n",
    "    return list\n",
    " \n",
    "List = [23, 65, 19, 90]\n",
    "pos1, pos2  = 1, 3\n",
    " \n",
    "print(swapPositions(List, pos1-1, pos2-1))"
   ]
  },
  {
   "cell_type": "code",
   "execution_count": 19,
   "id": "8784591f",
   "metadata": {},
   "outputs": [
    {
     "name": "stdout",
     "output_type": "stream",
     "text": [
      "The list is : [56, 23, 76, 89, 12]\n",
      "Length of list using naive method is : 5\n"
     ]
    }
   ],
   "source": [
    "#19.\n",
    "test_list = [ 56,23,76,89,12 ]\n",
    "print (\"The list is : \" + str(test_list))\n",
    "counter = 0\n",
    "for i in test_list:\n",
    "    counter = counter + 1\n",
    "print (\"Length of list using naive method is : \" + str(counter))"
   ]
  },
  {
   "cell_type": "code",
   "execution_count": 21,
   "id": "d08f2f68",
   "metadata": {},
   "outputs": [
    {
     "name": "stdout",
     "output_type": "stream",
     "text": [
      "25\n"
     ]
    }
   ],
   "source": [
    "#20.\n",
    "def maximum(a, b):\n",
    "      \n",
    "    if a >= b:\n",
    "        return a\n",
    "    else:\n",
    "        return b\n",
    "a = 25\n",
    "b = 14\n",
    "print(maximum(a, b))"
   ]
  },
  {
   "cell_type": "code",
   "execution_count": 24,
   "id": "636f62ab",
   "metadata": {},
   "outputs": [
    {
     "name": "stdout",
     "output_type": "stream",
     "text": [
      "14\n"
     ]
    }
   ],
   "source": [
    "#21.\n",
    "def minimum(a, b):\n",
    "      \n",
    "    if a <= b:\n",
    "        return a\n",
    "    else:\n",
    "        return b\n",
    "a = 25\n",
    "b = 14\n",
    "print(minimum(a, b))"
   ]
  },
  {
   "cell_type": "code",
   "execution_count": 33,
   "id": "68351935",
   "metadata": {},
   "outputs": [
    {
     "name": "stdout",
     "output_type": "stream",
     "text": [
      "amaama string is symmertical\n",
      "amaama string is palindrome\n"
     ]
    }
   ],
   "source": [
    "#22.\n",
    "string = 'amaama'\n",
    "half = int(len(string) / 2)\n",
    " \n",
    "if len(string) % 2 == 0:  # even\n",
    "    first_str = string[:half]\n",
    "    second_str = string[half:]\n",
    "else:  # odd\n",
    "    first_str = string[:half]\n",
    "    second_str = string[half+1:]\n",
    "if first_str == second_str:\n",
    "    print(string, 'string is symmertical')\n",
    "else:\n",
    "    print(string, 'string is not symmertical')\n",
    "if first_str == second_str[::-1]: \n",
    "    print(string, 'string is palindrome')\n",
    "else:\n",
    "    print(string, 'string is not palindrome')\n"
   ]
  },
  {
   "cell_type": "code",
   "execution_count": 35,
   "id": "2ec4f9ac",
   "metadata": {},
   "outputs": [
    {
     "name": "stdout",
     "output_type": "stream",
     "text": [
      "Lavanya is this Hi\n"
     ]
    }
   ],
   "source": [
    "#23.\n",
    "string = \"Hi this is Lavanya\"\n",
    "s = string.split()[::-1]\n",
    "l = []\n",
    "for i in s:\n",
    "   \n",
    "    l.append(i)\n",
    "\n",
    "print(\" \".join(l))"
   ]
  },
  {
   "cell_type": "code",
   "execution_count": 37,
   "id": "16ae0396",
   "metadata": {},
   "outputs": [
    {
     "name": "stdout",
     "output_type": "stream",
     "text": [
      "The original string is : Lavanya\n",
      "The string after removal of i'th character : Laanya\n"
     ]
    }
   ],
   "source": [
    "#24.\n",
    "test_str = \"Lavanya\" \n",
    "print (\"The original string is : \" + test_str)\n",
    "new_str = \"\"\n",
    "  \n",
    "for i in range(len(test_str)):\n",
    "    if i != 2:\n",
    "        new_str = new_str + test_str[i] \n",
    "print (\"The string after removal of i'th character : \" + new_str)"
   ]
  },
  {
   "cell_type": "code",
   "execution_count": 39,
   "id": "90649a09",
   "metadata": {},
   "outputs": [
    {
     "name": "stdout",
     "output_type": "stream",
     "text": [
      "Size of Tuple1: 88bytes\n",
      "Size of Tuple2: 88bytes\n",
      "Size of Tuple3: 72bytes\n"
     ]
    }
   ],
   "source": [
    "#25.tuples\n",
    "import sys\n",
    "Tuple1 = (\"A\", 1, \"B\", 2, \"C\", 3)\n",
    "Tuple2 = (\"Sasi\", \"Kalai\", \"Hari\", \"Lavanya\", \"deeva\", \"Deepanshu\")\n",
    "Tuple3 = ((1, \"Lion\"), ( 2, \"Tiger\"), (3, \"Fox\"), (4, \"Wolf\"))\n",
    "print(\"Size of Tuple1: \" + str(sys.getsizeof(Tuple1)) + \"bytes\")\n",
    "print(\"Size of Tuple2: \" + str(sys.getsizeof(Tuple2)) + \"bytes\")\n",
    "print(\"Size of Tuple3: \" + str(sys.getsizeof(Tuple3)) + \"bytes\")"
   ]
  },
  {
   "cell_type": "code",
   "execution_count": 40,
   "id": "9b1bb7ff",
   "metadata": {},
   "outputs": [
    {
     "name": "stdout",
     "output_type": "stream",
     "text": [
      "The original tuple is : (5, 20, 3, 7, 6, 8)\n",
      "The extracted values : (3, 5, 8, 20)\n"
     ]
    }
   ],
   "source": [
    "#26.\n",
    "test_tup = (5, 20, 3, 7, 6, 8)\n",
    "print(\"The original tuple is : \" + str(test_tup))\n",
    "K = 2\n",
    "res = []\n",
    "test_tup = list(sorted(test_tup))\n",
    " \n",
    "for idx, val in enumerate(test_tup):\n",
    "    if idx < K or idx >= len(test_tup) - K:\n",
    "        res.append(val)\n",
    "res = tuple(res)\n",
    "print(\"The extracted values : \" + str(res))"
   ]
  },
  {
   "cell_type": "code",
   "execution_count": 42,
   "id": "ce7b8703",
   "metadata": {},
   "outputs": [
    {
     "name": "stdout",
     "output_type": "stream",
     "text": [
      "The original tuple is : (34, 56, 87, 97, 23)\n",
      "The summation of tuple elements are : 297\n"
     ]
    }
   ],
   "source": [
    "#27.\n",
    "test_tup = (34,56,87,97,23)\n",
    "print(\"The original tuple is : \" + str(test_tup)) \n",
    "res = sum(list(test_tup))\n",
    "print(\"The summation of tuple elements are : \" + str(res)) "
   ]
  },
  {
   "cell_type": "code",
   "execution_count": 44,
   "id": "5b5174b9",
   "metadata": {},
   "outputs": [
    {
     "name": "stdout",
     "output_type": "stream",
     "text": [
      "Task 1:-\n",
      "\n",
      "key_value {2: 25, 1: 10, 5: 1, 4: 24, 6: 18, 3: 3237}\n",
      "1 2 3 4 5 6 "
     ]
    }
   ],
   "source": [
    "#28.DICTIONARY\n",
    "def dictionairy():\n",
    "    key_value = {}\n",
    "    key_value[2] = 25\n",
    "    key_value[1] = 10\n",
    "    key_value[5] = 1\n",
    "    key_value[4] = 24\n",
    "    key_value[6] = 18\n",
    "    key_value[3] = 3237\n",
    " \n",
    "    print(\"Task 1:-\\n\")\n",
    " \n",
    "    print(\"key_value\", key_value)\n",
    "\n",
    "    for i in sorted(key_value.keys()):\n",
    "        print(i, end=\" \")\n",
    " \n",
    " \n",
    "def main():\n",
    "    \n",
    "    dictionairy()\n",
    "if __name__ == \"__main__\":\n",
    "    main()"
   ]
  },
  {
   "cell_type": "code",
   "execution_count": 46,
   "id": "a979f1ef",
   "metadata": {},
   "outputs": [
    {
     "name": "stdout",
     "output_type": "stream",
     "text": [
      "{(20, 45, 67): -2, (5, 2, 4): 3}\n"
     ]
    }
   ],
   "source": [
    "#33\n",
    "import random as rn\n",
    "dict = {}\n",
    "x, y, z = 20,45,67\n",
    "dict[x, y, z] = x + y - z;\n",
    "x, y, z = 5, 2, 4\n",
    "dict[x, y, z] = x + y - z;\n",
    "print(dict)"
   ]
  },
  {
   "cell_type": "code",
   "execution_count": 48,
   "id": "c0c0c20a",
   "metadata": {},
   "outputs": [
    {
     "name": "stdout",
     "output_type": "stream",
     "text": [
      "Sum : 1800\n"
     ]
    }
   ],
   "source": [
    "#34\n",
    "def returnSum(myDict):\n",
    " \n",
    "    list = []\n",
    "    for i in myDict:\n",
    "        list.append(myDict[i])\n",
    "    final = sum(list)\n",
    " \n",
    "    return final\n",
    "dict = {'a': 100, 'b': 900, 'c': 800}\n",
    "print(\"Sum :\", returnSum(dict))"
   ]
  },
  {
   "cell_type": "code",
   "execution_count": 52,
   "id": "ff963aa7",
   "metadata": {},
   "outputs": [
    {
     "name": "stdout",
     "output_type": "stream",
     "text": [
      "Size of Set1: 472bytes\n",
      "Size of Set2: 472bytes\n",
      "Size of Set3: 216bytes\n"
     ]
    }
   ],
   "source": [
    "#35 SET\n",
    "import sys\n",
    "Set1 = {\"A\", 1, \"B\", 2, \"C\", 3}\n",
    "Set2 = {\"Gopal\", \"Raju\", \"Lavanya\", \"Nikhil\", \"Lucky\", \"Deepanshu\"}\n",
    "Set3 = {(1, \"Lion\"), ( 2, \"Tiger\"), (3, \"Fox\")}\n",
    "\n",
    "print(\"Size of Set1: \" + str(sys.getsizeof(Set1)) + \"bytes\")\n",
    "print(\"Size of Set2: \" + str(sys.getsizeof(Set2)) + \"bytes\")\n",
    "print(\"Size of Set3: \" + str(sys.getsizeof(Set3)) + \"bytes\")"
   ]
  },
  {
   "cell_type": "code",
   "execution_count": 53,
   "id": "99ebb678",
   "metadata": {},
   "outputs": [
    {
     "name": "stdout",
     "output_type": "stream",
     "text": [
      "n\n",
      "v\n",
      "L\n",
      "a\n",
      "y\n"
     ]
    }
   ],
   "source": [
    "#36\n",
    "test_set = set(\"Lavanya\")\n",
    "\n",
    "for val in test_set:\n",
    "    print(val)"
   ]
  },
  {
   "cell_type": "code",
   "execution_count": 55,
   "id": "8ce4fc0c",
   "metadata": {},
   "outputs": [
    {
     "name": "stdout",
     "output_type": "stream",
     "text": [
      "Minimum Element in the list [23, 45, 67, 89, 23] is 23\n",
      "Maximum Element in the list [23, 45, 67, 89, 23] is 89\n"
     ]
    }
   ],
   "source": [
    "#37\n",
    "gfg_list=[23,45,67,89,23]\n",
    "min_ele,max_ele=gfg_list[0],gfg_list[0] \n",
    "for i in range(1,len(gfg_list)):\n",
    "    if gfg_list[i]<min_ele:\n",
    "        min_ele=gfg_list[i]\n",
    "    if gfg_list[i]>max_ele:\n",
    "        max_ele=gfg_list[i]\n",
    "print('Minimum Element in the list',gfg_list,'is',min_ele)\n",
    "print('Maximum Element in the list',gfg_list,'is',max_ele)"
   ]
  },
  {
   "cell_type": "code",
   "execution_count": 57,
   "id": "57aa39c0",
   "metadata": {},
   "outputs": [
    {
     "name": "stdout",
     "output_type": "stream",
     "text": [
      "The original list : [[23, 45, 67], [2, 0, 9], [5, 4, 2], [2, 3, 9]]\n",
      "The Assigned Matrix : {23: [2, 0, 9], 45: [5, 4, 2], 67: [2, 3, 9]}\n"
     ]
    }
   ],
   "source": [
    "#38 MATRIX\n",
    "test_list = [[23,45,67], [2, 0, 9], [5, 4, 2], [2, 3, 9]]\n",
    "print(\"The original list : \" + str(test_list))\n",
    "res = {test_list[0][ele] :  test_list[ele + 1] for ele in range(len(test_list) - 1)}\n",
    "print(\"The Assigned Matrix : \" + str(res))"
   ]
  },
  {
   "cell_type": "code",
   "execution_count": 59,
   "id": "edc9db39",
   "metadata": {},
   "outputs": [
    {
     "name": "stdout",
     "output_type": "stream",
     "text": [
      "Printing elements of first matrix\n",
      "[[14 25]\n",
      " [73  4]]\n",
      "Printing elements of second matrix\n",
      "[[48 58]\n",
      " [69 79]]\n",
      "Addition of two matrix\n",
      "[[ 62  83]\n",
      " [142  83]]\n"
     ]
    }
   ],
   "source": [
    "#39 \n",
    "import numpy as np\n",
    "A = np.array([[14, 25], [73, 4]])\n",
    "  \n",
    "B = np.array([[48, 58], [69, 79]])\n",
    "  \n",
    "print(\"Printing elements of first matrix\")\n",
    "print(A)\n",
    "print(\"Printing elements of second matrix\")\n",
    "print(B)\n",
    "  \n",
    "print(\"Addition of two matrix\")\n",
    "print(np.add(A, B))"
   ]
  },
  {
   "cell_type": "code",
   "execution_count": 61,
   "id": "3eb1104c",
   "metadata": {},
   "outputs": [
    {
     "name": "stdout",
     "output_type": "stream",
     "text": [
      "The original list : [12, 34, 56, 78, 92]\n",
      "Matrix after grouping : [[12], [34], [56], [78], [92]]\n"
     ]
    }
   ],
   "source": [
    "#40\n",
    "from itertools import groupby\n",
    "test_list = [12,34,56,78,92]\n",
    "print(\"The original list : \" + str(test_list))\n",
    "res = [list(val) for key, val in groupby(sorted(test_list))]  \n",
    "print(\"Matrix after grouping : \" + str(res))"
   ]
  },
  {
   "cell_type": "code",
   "execution_count": 62,
   "id": "0138819e",
   "metadata": {},
   "outputs": [
    {
     "name": "stdout",
     "output_type": "stream",
     "text": [
      "(iterable=None, /, **kwds)\n"
     ]
    }
   ],
   "source": [
    "#41FUNCTIONS \n",
    "import inspect\n",
    "import collections\n",
    "print(inspect.signature(collections.Counter))"
   ]
  },
  {
   "cell_type": "code",
   "execution_count": 63,
   "id": "38505924",
   "metadata": {},
   "outputs": [
    {
     "name": "stdout",
     "output_type": "stream",
     "text": [
      "Hello from  Lavanya, 25\n"
     ]
    }
   ],
   "source": [
    "#42\n",
    "def GFG(name, num):\n",
    "    print(\"Hello from \", name + ', ' + num)\n",
    "  \n",
    "  \n",
    "GFG(\"Lavanya\", \"25\")"
   ]
  },
  {
   "cell_type": "code",
   "execution_count": 64,
   "id": "5707bcbf",
   "metadata": {},
   "outputs": [
    {
     "name": "stdout",
     "output_type": "stream",
     "text": [
      "1\n"
     ]
    }
   ],
   "source": [
    "#43\n",
    "def power(N, P):\n",
    " \n",
    "    if P == 0:  \n",
    "        return 1\n",
    "   \n",
    "    return (N*power(N, P-1)) \n",
    "N = 5\n",
    "P = 0\n",
    " \n",
    "print(power(N, P))"
   ]
  },
  {
   "cell_type": "code",
   "execution_count": null,
   "id": "9edf09df",
   "metadata": {},
   "outputs": [],
   "source": []
  }
 ],
 "metadata": {
  "kernelspec": {
   "display_name": "Python 3 (ipykernel)",
   "language": "python",
   "name": "python3"
  },
  "language_info": {
   "codemirror_mode": {
    "name": "ipython",
    "version": 3
   },
   "file_extension": ".py",
   "mimetype": "text/x-python",
   "name": "python",
   "nbconvert_exporter": "python",
   "pygments_lexer": "ipython3",
   "version": "3.9.12"
  }
 },
 "nbformat": 4,
 "nbformat_minor": 5
}
